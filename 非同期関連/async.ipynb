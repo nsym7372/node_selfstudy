{
 "cells": [
  {
   "cell_type": "code",
   "execution_count": null,
   "metadata": {},
   "outputs": [],
   "source": [
    "setTimeout(() => console.log(\"1秒経過しました\"), 3000)\n",
    "console.log(\"settimeout 実行\")"
   ]
  },
  {
   "cell_type": "code",
   "execution_count": null,
   "metadata": {},
   "outputs": [],
   "source": [
    "import * as fs from \"fs\"\n",
    "fs.readdir(\"foo\", (err, files) => {\n",
    "    console.log(\"fs.readdir() 実行結果\")\n",
    "    console.log(`err: ${err}`)\n",
    "    console.log(`files: ${files}`)\n",
    "})"
   ]
  },
  {
   "cell_type": "code",
   "execution_count": null,
   "metadata": {},
   "outputs": [],
   "source": [
    "function parseJSONSync(json){\n",
    "    try{\n",
    "        return JSON.parse(json)\n",
    "    }\n",
    "    catch(err){\n",
    "        console.log(\"例外発生：\", err)\n",
    "    }\n",
    "}"
   ]
  },
  {
   "cell_type": "code",
   "execution_count": null,
   "metadata": {},
   "outputs": [],
   "source": [
    "parseJSONSync('{\"message\": \"Hello\", \"to\": \"World\"}')"
   ]
  },
  {
   "cell_type": "code",
   "execution_count": null,
   "metadata": {},
   "outputs": [],
   "source": [
    "parseJSONSync('不正')"
   ]
  },
  {
   "cell_type": "code",
   "execution_count": null,
   "metadata": {},
   "outputs": [],
   "source": [
    "function parseJSONSync2(json, callback){\n",
    "    try{\n",
    "        setTimeout(() => {\n",
    "            callback(JSON.parse(json))\n",
    "        }, 2000)\n",
    "    }\n",
    "    catch(err){\n",
    "        console.log(\"例外発生：\", err)\n",
    "        callback({})\n",
    "    }\n",
    "}"
   ]
  },
  {
   "cell_type": "code",
   "execution_count": null,
   "metadata": {},
   "outputs": [],
   "source": [
    "parseJSONSync2('{\"message\": \"Hello\", \"to\": \"World\"}', result => console.log('parse結果:', result))"
   ]
  },
  {
   "cell_type": "code",
   "execution_count": null,
   "metadata": {},
   "outputs": [],
   "source": [
    "parseJSONSync2('不正', result => console.log('不正:', result))"
   ]
  },
  {
   "cell_type": "code",
   "execution_count": 2,
   "metadata": {},
   "outputs": [],
   "source": [
    "function parseJSONSync3(json, callback){\n",
    "    setTimeout(() => {\n",
    "        try{\n",
    "            callback(JSON.parse(json))\n",
    "        }\n",
    "        catch(err){\n",
    "            console.log(\"例外発生：\", err)\n",
    "            callback(err)\n",
    "        }\n",
    "    }, 2000)\n",
    "}"
   ]
  },
  {
   "cell_type": "code",
   "execution_count": null,
   "metadata": {},
   "outputs": [],
   "source": [
    "parseJSONSync3('{\"message\": \"Hello\", \"to\": \"World\"}', result => console.log('parse結果:', result))"
   ]
  },
  {
   "cell_type": "code",
   "execution_count": null,
   "metadata": {},
   "outputs": [],
   "source": [
    "parseJSONSync3('不正', result => console.log('不正:', result))"
   ]
  },
  {
   "cell_type": "code",
   "execution_count": null,
   "metadata": {},
   "outputs": [],
   "source": [
    "const cache = {}\n",
    "function parseJSONAsyncWithCache(json, callback){\n",
    "    const cached = cache[json]\n",
    "    if(cached){\n",
    "        callback(cached.err, cached.result)\n",
    "        return\n",
    "    }\n",
    "    parseJSONSync3(json, (err, result) => {\n",
    "        cache[json] = {err, result}\n",
    "        callback(err, result)\n",
    "    })\n",
    "}"
   ]
  },
  {
   "cell_type": "code",
   "execution_count": null,
   "metadata": {},
   "outputs": [],
   "source": [
    "parseJSONAsyncWithCache('{\"message\": \"Hello\", \"to\": \"World\"}', result => {\n",
    "    console.log('1回目parse結果:', result)\n",
    "    parseJSONAsyncWithCache('{\"message\": \"Hello\", \"to\": \"World\"}', result => {\n",
    "        console.log('2回目parse結果:', result)\n",
    "    })\n",
    "    console.log(\"2回目完了\")\n",
    "})\n",
    "console.log(\"1回目完了\")"
   ]
  },
  {
   "cell_type": "code",
   "execution_count": 3,
   "metadata": {},
   "outputs": [],
   "source": [
    "const cache2 = {}\n",
    "function parseJSONAsyncWithCache2(json, callback){\n",
    "    const cached = cache2[json]\n",
    "    if(cached){\n",
    "        setTimeout(() => {\n",
    "            callback(cached.err, cached.result)\n",
    "        }, 0); \n",
    "        return\n",
    "    }\n",
    "    parseJSONSync3(json, (err, result) => {\n",
    "        cache2[json] = {err, result}\n",
    "        callback(err, result)\n",
    "    })\n",
    "}"
   ]
  },
  {
   "cell_type": "code",
   "execution_count": 4,
   "metadata": {},
   "outputs": [
    {
     "name": "stdout",
     "output_type": "stream",
     "text": [
      "1回目完了\n",
      "1回目parse結果: { message: 'Hello', to: 'World' }\n",
      "2回目完了\n",
      "2回目parse結果: { message: 'Hello', to: 'World' }\n"
     ]
    }
   ],
   "source": [
    "parseJSONAsyncWithCache2('{\"message\": \"Hello\", \"to\": \"World\"}', result => {\n",
    "    console.log('1回目parse結果:', result)\n",
    "    parseJSONAsyncWithCache2('{\"message\": \"Hello\", \"to\": \"World\"}', result => {\n",
    "        console.log('2回目parse結果:', result)\n",
    "    })\n",
    "    console.log(\"2回目完了\")\n",
    "})\n",
    "console.log(\"1回目完了\")"
   ]
  },
  {
   "cell_type": "code",
   "execution_count": 7,
   "metadata": {},
   "outputs": [],
   "source": [
    "function parseJSONAsync4(json){\n",
    "    return new Promise((resolve, reject) => {\n",
    "        setTimeout(() => {\n",
    "            try{\n",
    "                resolve(JSON.parse(json))\n",
    "            }\n",
    "            catch(err){\n",
    "                console.log(\"例外発生：\", err)\n",
    "                reject(err)\n",
    "            }\n",
    "        }, 2000)\n",
    "    })\n",
    "}"
   ]
  },
  {
   "cell_type": "code",
   "execution_count": 8,
   "metadata": {},
   "outputs": [
    {
     "name": "stdout",
     "output_type": "stream",
     "text": [
      "* Promise生成直後 ****************************\n",
      "Promise { <pending> }\n",
      "Promise { <pending> }\n",
      "Timeout {\n",
      "  _idleTimeout: 2000,\n",
      "  _idlePrev: [TimersList],\n",
      "  _idleNext: [Timeout],\n",
      "  _idleStart: 8904941,\n",
      "  _onTimeout: [Function (anonymous)],\n",
      "  _timerArgs: undefined,\n",
      "  _repeat: null,\n",
      "  _destroyed: false,\n",
      "  [Symbol(refed)]: true,\n",
      "  [Symbol(kHasPrimitive)]: false,\n",
      "  [Symbol(asyncId)]: 155,\n",
      "  [Symbol(triggerId)]: 0\n",
      "}\n",
      "例外発生： SyntaxError: Unexpected token 不 in JSON at position 0\n",
      "    at JSON.parse (<anonymous>)\n",
      "    at Timeout._onTimeout (evalmachine.<anonymous>:7:30)\n",
      "    at listOnTimeout (node:internal/timers:557:17)\n",
      "    at processTimers (node:internal/timers:500:7)\n"
     ]
    },
    {
     "name": "stderr",
     "output_type": "stream",
     "text": [
      "UnhandledPromiseRejection: SyntaxError: Unexpected token 不 in JSON at position 0\n",
      "    at JSON.parse (<anonymous>)\n",
      "    at Timeout._onTimeout (evalmachine.<anonymous>:7:30)\n",
      "    at listOnTimeout (node:internal/timers:557:17)\n",
      "    at processTimers (node:internal/timers:500:7)\n"
     ]
    },
    {
     "name": "stdout",
     "output_type": "stream",
     "text": [
      "* 2秒後 ****************************\n",
      "Promise { { message: 'Hello', to: 'World' } }\n",
      "Promise {\n",
      "  <rejected> SyntaxError: Unexpected token 不 in JSON at position 0\n",
      "      at JSON.parse (<anonymous>)\n",
      "      at Timeout._onTimeout (evalmachine.<anonymous>:7:30)\n",
      "      at listOnTimeout (node:internal/timers:557:17)\n",
      "      at processTimers (node:internal/timers:500:7)\n",
      "}\n"
     ]
    }
   ],
   "source": [
    "const toBeFullfilled = parseJSONAsync4('{\"message\": \"Hello\", \"to\": \"World\"}')\n",
    "const toBeRejected = parseJSONAsync4('不正')\n",
    "console.log(\"* Promise生成直後 ****************************\")\n",
    "console.log(toBeFullfilled)\n",
    "console.log(toBeRejected)\n",
    "\n",
    "setTimeout(() => {\n",
    "    console.log(\"* 2秒後 ****************************\")\n",
    "    console.log(toBeFullfilled)\n",
    "    console.log(toBeRejected)\n",
    "}, 2000)"
   ]
  },
  {
   "cell_type": "code",
   "execution_count": 19,
   "metadata": {},
   "outputs": [],
   "source": [
    "const stringPromise = Promise.resolve(\"hello world\")\n",
    "const stringPromise2 = new Promise<string>(resolve => resolve(\"hello world\"))"
   ]
  },
  {
   "cell_type": "code",
   "execution_count": 21,
   "metadata": {},
   "outputs": [
    {
     "name": "stdout",
     "output_type": "stream",
     "text": [
      "Promise { <pending> }\n"
     ]
    }
   ],
   "source": [
    "const numberPromise = stringPromise2.then(str => str.length)\n",
    "numberPromise"
   ]
  },
  {
   "cell_type": "code",
   "execution_count": 22,
   "metadata": {},
   "outputs": [
    {
     "name": "stdout",
     "output_type": "stream",
     "text": [
      "Promise { 11 }\n"
     ]
    }
   ],
   "source": [
    "numberPromise"
   ]
  },
  {
   "cell_type": "code",
   "execution_count": 59,
   "metadata": {},
   "outputs": [],
   "source": [
    "function asyncFunc1(){\n",
    "    return new Promise((resolve, reject) => {\n",
    "        setTimeout(() => {\n",
    "            try{\n",
    "                console.log(\"inner fulfilled1\")\n",
    "                resolve(\"fulfill: asyncFunc1\")\n",
    "            }\n",
    "            catch(err){\n",
    "                reject(err)\n",
    "            }\n",
    "        }, 2000)\n",
    "    })\n",
    "}\n",
    "\n",
    "function asyncFunc2(){\n",
    "    return new Promise((resolve, reject) => {\n",
    "        setTimeout(() => {\n",
    "            try{\n",
    "                throw new Error(\"エラー\")\n",
    "                console.log(\"inner fulfilled2\")\n",
    "                resolve(\"fulfill: asyncFunc2\")\n",
    "            }\n",
    "            catch(err){\n",
    "                reject(err)\n",
    "            }\n",
    "        }, 2000)\n",
    "    })\n",
    "}\n",
    "\n",
    "function asyncFunc3(){\n",
    "    return new Promise((resolve, reject) => {\n",
    "        setTimeout(() => {\n",
    "            try{\n",
    "                console.log(\"inner fulfilled3\")\n",
    "                resolve(\"fulfill: asyncFunc3\")\n",
    "            }\n",
    "            catch(err){\n",
    "                reject(err)\n",
    "            }\n",
    "        }, 2000)\n",
    "    })\n",
    "}"
   ]
  },
  {
   "cell_type": "code",
   "execution_count": 60,
   "metadata": {},
   "outputs": [
    {
     "name": "stdout",
     "output_type": "stream",
     "text": [
      "inner fulfilled1\n",
      "call fulfill: asyncFunc1\n",
      "Error: エラー\n",
      "    at Timeout._onTimeout (evalmachine.<anonymous>:21:23)\n",
      "    at listOnTimeout (node:internal/timers:557:17)\n",
      "    at processTimers (node:internal/timers:500:7)\n",
      "close\n"
     ]
    }
   ],
   "source": [
    "const ret = asyncFunc1()\n",
    "    .then(ret => console.log(\"call\", ret))\n",
    "    .then(asyncFunc2)\n",
    "    .then(ret => console.log(\"call\", ret))\n",
    "    .then(asyncFunc3)\n",
    "    .then(ret => console.log(\"call\", ret))\n",
    "    .catch(err => console.log(err))\n",
    "    .finally(() => console.log(\"close\"))"
   ]
  },
  {
   "cell_type": "code",
   "execution_count": 52,
   "metadata": {},
   "outputs": [
    {
     "name": "stdout",
     "output_type": "stream",
     "text": [
      "Promise { undefined }\n"
     ]
    }
   ],
   "source": [
    "ret"
   ]
  },
  {
   "cell_type": "code",
   "execution_count": 70,
   "metadata": {},
   "outputs": [
    {
     "name": "stdout",
     "output_type": "stream",
     "text": [
      "Promise { <pending> }\n",
      "rejected:  Error: エラー\n",
      "    at Timeout._onTimeout (evalmachine.<anonymous>:21:23)\n",
      "    at listOnTimeout (node:internal/timers:557:17)\n",
      "    at processTimers (node:internal/timers:500:7)\n"
     ]
    }
   ],
   "source": [
    "const somePromise = asyncFunc2()\n",
    "somePromise.then(\n",
    "    value => {\n",
    "        console.log(\"fulfilled: \", value)\n",
    "    },\n",
    "    err => {\n",
    "        console.log(\"rejected: \", err)\n",
    "    }\n",
    ")\n",
    ".catch(err => {\n",
    "    console.log(\"catch: \", err)\n",
    "})"
   ]
  },
  {
   "cell_type": "code",
   "execution_count": 71,
   "metadata": {},
   "outputs": [
    {
     "name": "stdout",
     "output_type": "stream",
     "text": [
      "Promise {\n",
      "  <rejected> Error: エラー\n",
      "      at Timeout._onTimeout (evalmachine.<anonymous>:21:23)\n",
      "      at listOnTimeout (node:internal/timers:557:17)\n",
      "      at processTimers (node:internal/timers:500:7)\n",
      "}\n"
     ]
    }
   ],
   "source": [
    "somePromise"
   ]
  },
  {
   "cell_type": "code",
   "execution_count": null,
   "metadata": {},
   "outputs": [],
   "source": []
  }
 ],
 "metadata": {
  "kernelspec": {
   "display_name": "TypeScript",
   "language": "typescript",
   "name": "tslab"
  },
  "language_info": {
   "codemirror_mode": {
    "mode": "typescript",
    "name": "javascript",
    "typescript": true
   },
   "file_extension": ".ts",
   "mimetype": "text/typescript",
   "name": "typescript",
   "version": "3.7.2"
  },
  "orig_nbformat": 4
 },
 "nbformat": 4,
 "nbformat_minor": 2
}

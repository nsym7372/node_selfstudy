{
 "cells": [
  {
   "cell_type": "code",
   "execution_count": 3,
   "metadata": {},
   "outputs": [],
   "source": [
    "function* generatorFunc(){\n",
    "    console.log(\"yield 1\");\n",
    "    yield 1;\n",
    "    console.log(\"yield 2\");\n",
    "    yield 2;\n",
    "    console.log(\"yield 3\");\n",
    "    yield 3;\n",
    "}\n",
    "\n",
    "const generator = generatorFunc()"
   ]
  },
  {
   "cell_type": "code",
   "execution_count": 4,
   "metadata": {},
   "outputs": [
    {
     "name": "stdout",
     "output_type": "stream",
     "text": [
      "yield 1\n",
      "{ value: 1, done: false }\n"
     ]
    }
   ],
   "source": [
    "generator.next()"
   ]
  },
  {
   "cell_type": "code",
   "execution_count": 5,
   "metadata": {},
   "outputs": [
    {
     "name": "stdout",
     "output_type": "stream",
     "text": [
      "yield 2\n",
      "{ value: 2, done: false }\n"
     ]
    }
   ],
   "source": [
    "generator.next()"
   ]
  },
  {
   "cell_type": "code",
   "execution_count": 6,
   "metadata": {},
   "outputs": [
    {
     "name": "stdout",
     "output_type": "stream",
     "text": [
      "yield 3\n",
      "{ value: 3, done: false }\n"
     ]
    }
   ],
   "source": [
    "generator.next()"
   ]
  },
  {
   "cell_type": "code",
   "execution_count": 7,
   "metadata": {},
   "outputs": [
    {
     "name": "stdout",
     "output_type": "stream",
     "text": [
      "{ value: undefined, done: true }\n"
     ]
    }
   ],
   "source": [
    "generator.next()"
   ]
  },
  {
   "cell_type": "code",
   "execution_count": 8,
   "metadata": {},
   "outputs": [
    {
     "name": "stdout",
     "output_type": "stream",
     "text": [
      "{ value: undefined, done: true }\n"
     ]
    }
   ],
   "source": [
    "generator.next()"
   ]
  },
  {
   "cell_type": "code",
   "execution_count": 9,
   "metadata": {},
   "outputs": [],
   "source": [
    "const generator2 = generatorFunc()"
   ]
  },
  {
   "cell_type": "code",
   "execution_count": 11,
   "metadata": {},
   "outputs": [
    {
     "name": "stdout",
     "output_type": "stream",
     "text": [
      "yield 1\n",
      "1\n",
      "yield 2\n",
      "2\n",
      "yield 3\n",
      "3\n"
     ]
    }
   ],
   "source": [
    "for(const gen2 of generator2){\n",
    "    console.log(gen2)\n",
    "}"
   ]
  },
  {
   "cell_type": "code",
   "execution_count": 14,
   "metadata": {},
   "outputs": [],
   "source": [
    "const ary = [1, 2, 3]\n",
    "const ary_i = ary[Symbol.iterator]()"
   ]
  },
  {
   "cell_type": "code",
   "execution_count": 15,
   "metadata": {},
   "outputs": [
    {
     "name": "stdout",
     "output_type": "stream",
     "text": [
      "{ value: 1, done: false }\n"
     ]
    }
   ],
   "source": [
    "ary_i.next()"
   ]
  },
  {
   "cell_type": "code",
   "execution_count": 16,
   "metadata": {},
   "outputs": [
    {
     "name": "stdout",
     "output_type": "stream",
     "text": [
      "{ value: 2, done: false }\n"
     ]
    }
   ],
   "source": [
    "ary_i.next()"
   ]
  },
  {
   "cell_type": "code",
   "execution_count": 17,
   "metadata": {},
   "outputs": [
    {
     "name": "stdout",
     "output_type": "stream",
     "text": [
      "{ value: 3, done: false }\n"
     ]
    }
   ],
   "source": [
    "ary_i.next()"
   ]
  },
  {
   "cell_type": "code",
   "execution_count": 18,
   "metadata": {},
   "outputs": [
    {
     "name": "stdout",
     "output_type": "stream",
     "text": [
      "{ value: undefined, done: true }\n"
     ]
    }
   ],
   "source": [
    "ary_i.next()"
   ]
  },
  {
   "cell_type": "code",
   "execution_count": 2,
   "metadata": {},
   "outputs": [],
   "source": [
    "function* resetableGeneratorFunc(){\n",
    "    let count = 0\n",
    "    while(true){\n",
    "        if(yield count++){\n",
    "            count = 0\n",
    "        }\n",
    "    }\n",
    "}\n",
    "const resetableGenerator = resetableGeneratorFunc()"
   ]
  },
  {
   "cell_type": "code",
   "execution_count": 12,
   "metadata": {},
   "outputs": [
    {
     "name": "stdout",
     "output_type": "stream",
     "text": [
      "{ value: 3, done: false }\n"
     ]
    }
   ],
   "source": [
    "resetableGenerator.next()"
   ]
  },
  {
   "cell_type": "code",
   "execution_count": 27,
   "metadata": {},
   "outputs": [],
   "source": [
    "function* tryCatchGeneratorFunc(){\n",
    "    try{\n",
    "        yield 1\n",
    "    } catch (err) {\n",
    "        console.log(\"★\", err)\n",
    "        yield 2\n",
    "    }\n",
    "}\n",
    "\n",
    "const tryCatchGenerator = tryCatchGeneratorFunc()"
   ]
  },
  {
   "cell_type": "code",
   "execution_count": 28,
   "metadata": {},
   "outputs": [
    {
     "name": "stdout",
     "output_type": "stream",
     "text": [
      "{ value: 1, done: false }\n"
     ]
    }
   ],
   "source": [
    "tryCatchGenerator.next()"
   ]
  },
  {
   "cell_type": "code",
   "execution_count": 29,
   "metadata": {},
   "outputs": [
    {
     "name": "stdout",
     "output_type": "stream",
     "text": [
      "★ Error: ★\n",
      "    at evalmachine.<anonymous>:3:54\n",
      "    at evalmachine.<anonymous>:5:3\n",
      "    at sigintHandlersWrap (node:vm:268:12)\n",
      "    at Script.runInThisContext (node:vm:127:14)\n",
      "    at Object.runInThisContext (node:vm:305:38)\n",
      "    at Object.execute (/usr/local/lib/node_modules/tslab/dist/executor.js:162:38)\n",
      "    at JupyterHandlerImpl.handleExecuteImpl (/usr/local/lib/node_modules/tslab/dist/jupyter.js:219:38)\n",
      "    at /usr/local/lib/node_modules/tslab/dist/jupyter.js:177:57\n",
      "    at async JupyterHandlerImpl.handleExecute (/usr/local/lib/node_modules/tslab/dist/jupyter.js:177:21)\n",
      "    at async ZmqServer.handleExecute (/usr/local/lib/node_modules/tslab/dist/jupyter.js:375:25)\n",
      "{ value: 2, done: false }\n"
     ]
    }
   ],
   "source": [
    "tryCatchGenerator.throw(new Error(\"★\"))"
   ]
  },
  {
   "cell_type": "code",
   "execution_count": 30,
   "metadata": {},
   "outputs": [
    {
     "name": "stdout",
     "output_type": "stream",
     "text": [
      "{ value: undefined, done: true }\n"
     ]
    }
   ],
   "source": [
    "tryCatchGenerator.next()"
   ]
  },
  {
   "cell_type": "code",
   "execution_count": null,
   "metadata": {},
   "outputs": [],
   "source": []
  }
 ],
 "metadata": {
  "kernelspec": {
   "display_name": "TypeScript",
   "language": "typescript",
   "name": "tslab"
  },
  "language_info": {
   "codemirror_mode": {
    "mode": "typescript",
    "name": "javascript",
    "typescript": true
   },
   "file_extension": ".ts",
   "mimetype": "text/typescript",
   "name": "typescript",
   "version": "3.7.2"
  },
  "orig_nbformat": 4
 },
 "nbformat": 4,
 "nbformat_minor": 2
}

{
 "cells": [
  {
   "cell_type": "code",
   "execution_count": 2,
   "metadata": {},
   "outputs": [],
   "source": [
    "const wait = (wait: number) => {\n",
    "    return new Promise(resolve => {setTimeout(resolve, wait)})\n",
    "}"
   ]
  },
  {
   "cell_type": "code",
   "execution_count": null,
   "metadata": {},
   "outputs": [
    {
     "name": "stdout",
     "output_type": "stream",
     "text": [
      "Promise { <pending> }\n"
     ]
    },
    {
     "name": "stderr",
     "output_type": "stream",
     "text": [
      "UnhandledPromiseRejection: Error: ★\n",
      "    at evalmachine.<anonymous>:6:48\n"
     ]
    }
   ],
   "source": [
    "const fulfilledFirst = Promise.race([\n",
    "    wait(40).then(() => 1),\n",
    "    wait(20).then(() => \"foo\"),\n",
    "    wait(10).then(() => Promise.reject(new Error(\"★\")))\n",
    "])\n",
    "fulfilledFirst"
   ]
  },
  {
   "cell_type": "code",
   "execution_count": 8,
   "metadata": {},
   "outputs": [
    {
     "name": "stdout",
     "output_type": "stream",
     "text": [
      "Promise { <rejected> Error: ★\n",
      "      at evalmachine.<anonymous>:6:48 }\n"
     ]
    }
   ],
   "source": [
    "fulfilledFirst"
   ]
  },
  {
   "cell_type": "code",
   "execution_count": 15,
   "metadata": {},
   "outputs": [
    {
     "name": "stdout",
     "output_type": "stream",
     "text": [
      "Promise { <pending> }\n"
     ]
    }
   ],
   "source": [
    "const allSettled = Promise.allSettled([\n",
    "    1,\n",
    "    Promise.resolve(\"foo\"),\n",
    "    Promise.reject(new Error(\"★\")),\n",
    "    Promise.resolve(true)\n",
    "])\n",
    "allSettled"
   ]
  },
  {
   "cell_type": "code",
   "execution_count": 16,
   "metadata": {},
   "outputs": [
    {
     "name": "stdout",
     "output_type": "stream",
     "text": [
      "Promise {\n",
      "  [\n",
      "    { status: 'fulfilled', value: 1 },\n",
      "    { status: 'fulfilled', value: 'foo' },\n",
      "    {\n",
      "      status: 'rejected',\n",
      "      reason: Error: ★\n",
      "          at evalmachine.<anonymous>:6:20\n",
      "          at evalmachine.<anonymous>:12:3\n",
      "          at sigintHandlersWrap (node:vm:268:12)\n",
      "          at Script.runInThisContext (node:vm:127:14)\n",
      "          at Object.runInThisContext (node:vm:305:38)\n",
      "          at Object.execute (/usr/local/lib/node_modules/tslab/dist/executor.js:162:38)\n",
      "          at JupyterHandlerImpl.handleExecuteImpl (/usr/local/lib/node_modules/tslab/dist/jupyter.js:219:38)\n",
      "          at /usr/local/lib/node_modules/tslab/dist/jupyter.js:177:57\n",
      "          at async JupyterHandlerImpl.handleExecute (/usr/local/lib/node_modules/tslab/dist/jupyter.js:177:21)\n",
      "          at async ZmqServer.handleExecute (/usr/local/lib/node_modules/tslab/dist/jupyter.js:375:25)\n",
      "    },\n",
      "    { status: 'fulfilled', value: true }\n",
      "  ]\n",
      "}\n"
     ]
    }
   ],
   "source": [
    "allSettled"
   ]
  },
  {
   "cell_type": "code",
   "execution_count": null,
   "metadata": {},
   "outputs": [],
   "source": []
  }
 ],
 "metadata": {
  "kernelspec": {
   "display_name": "TypeScript",
   "language": "typescript",
   "name": "tslab"
  },
  "language_info": {
   "codemirror_mode": {
    "mode": "typescript",
    "name": "javascript",
    "typescript": true
   },
   "file_extension": ".ts",
   "mimetype": "text/typescript",
   "name": "typescript",
   "version": "3.7.2"
  },
  "orig_nbformat": 4
 },
 "nbformat": 4,
 "nbformat_minor": 2
}

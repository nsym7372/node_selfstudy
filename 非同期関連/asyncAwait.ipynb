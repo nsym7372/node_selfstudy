{
 "cells": [
  {
   "cell_type": "code",
   "execution_count": 13,
   "metadata": {},
   "outputs": [],
   "source": [
    "function parseJSONAsync(json){\n",
    "    return new Promise((resolve, reject) => {\n",
    "        setTimeout(() => {\n",
    "            try {\n",
    "                resolve(JSON.parse(json))\n",
    "            } catch (error) {\n",
    "                reject(error)\n",
    "            }\n",
    "        }, 1500);\n",
    "    })\n",
    "}"
   ]
  },
  {
   "cell_type": "code",
   "execution_count": 14,
   "metadata": {},
   "outputs": [],
   "source": [
    " async function asyncFunc(json){\n",
    "    try {\n",
    "        const result = await parseJSONAsync(json);\n",
    "        console.log(\"parse結果: \", result)\n",
    "    } catch (error) {\n",
    "        console.log(\"★\", error)\n",
    "        \n",
    "    }\n",
    "}"
   ]
  },
  {
   "cell_type": "code",
   "execution_count": 15,
   "metadata": {},
   "outputs": [
    {
     "name": "stdout",
     "output_type": "stream",
     "text": [
      "Promise { <pending> }\n",
      "parse結果:  { foo: 1 }\n"
     ]
    }
   ],
   "source": [
    "asyncFunc('{\"foo\": 1}')"
   ]
  },
  {
   "cell_type": "code",
   "execution_count": 16,
   "metadata": {},
   "outputs": [
    {
     "name": "stdout",
     "output_type": "stream",
     "text": [
      "Promise { <pending> }\n",
      "★ SyntaxError: Unexpected token 不 in JSON at position 0\n",
      "    at JSON.parse (<anonymous>)\n",
      "    at Timeout._onTimeout (evalmachine.<anonymous>:7:30)\n",
      "    at listOnTimeout (node:internal/timers:557:17)\n",
      "    at processTimers (node:internal/timers:500:7)\n"
     ]
    }
   ],
   "source": [
    "asyncFunc('不正json')"
   ]
  },
  {
   "cell_type": "code",
   "execution_count": 17,
   "metadata": {},
   "outputs": [],
   "source": [
    "async function returnFoo() { return \"foo\"}"
   ]
  },
  {
   "cell_type": "code",
   "execution_count": 18,
   "metadata": {},
   "outputs": [
    {
     "name": "stdout",
     "output_type": "stream",
     "text": [
      "Promise { 'foo' }\n"
     ]
    }
   ],
   "source": [
    "returnFoo()"
   ]
  },
  {
   "cell_type": "code",
   "execution_count": 21,
   "metadata": {},
   "outputs": [],
   "source": [
    "async function returnError() {throw new Error(\"エラー\")}"
   ]
  },
  {
   "cell_type": "code",
   "execution_count": null,
   "metadata": {},
   "outputs": [
    {
     "name": "stdout",
     "output_type": "stream",
     "text": [
      "Promise {\n",
      "  <rejected> Error: エラー\n",
      "      at Proxy.returnError (evalmachine.<anonymous>:3:38)\n",
      "      at evalmachine.<anonymous>:3:30\n",
      "      at evalmachine.<anonymous>:5:3\n",
      "      at sigintHandlersWrap (node:vm:268:12)\n",
      "      at Script.runInThisContext (node:vm:127:14)\n",
      "      at Object.runInThisContext (node:vm:305:38)\n",
      "      at Object.execute (/usr/local/lib/node_modules/tslab/dist/executor.js:162:38)\n",
      "      at JupyterHandlerImpl.handleExecuteImpl (/usr/local/lib/node_modules/tslab/dist/jupyter.js:219:38)\n",
      "      at /usr/local/lib/node_modules/tslab/dist/jupyter.js:177:57\n",
      "      at async JupyterHandlerImpl.handleExecute (/usr/local/lib/node_modules/tslab/dist/jupyter.js:177:21)\n",
      "}\n"
     ]
    },
    {
     "name": "stderr",
     "output_type": "stream",
     "text": [
      "UnhandledPromiseRejection: Error: エラー\n",
      "    at Proxy.returnError (evalmachine.<anonymous>:3:38)\n",
      "    at evalmachine.<anonymous>:3:30\n",
      "    at evalmachine.<anonymous>:5:3\n",
      "    at sigintHandlersWrap (node:vm:268:12)\n",
      "    at Script.runInThisContext (node:vm:127:14)\n",
      "    at Object.runInThisContext (node:vm:305:38)\n",
      "    at Object.execute (/usr/local/lib/node_modules/tslab/dist/executor.js:162:38)\n",
      "    at JupyterHandlerImpl.handleExecuteImpl (/usr/local/lib/node_modules/tslab/dist/jupyter.js:219:38)\n",
      "    at /usr/local/lib/node_modules/tslab/dist/jupyter.js:177:57\n",
      "    at async JupyterHandlerImpl.handleExecute (/usr/local/lib/node_modules/tslab/dist/jupyter.js:177:21)\n"
     ]
    }
   ],
   "source": [
    "returnError()"
   ]
  },
  {
   "cell_type": "code",
   "execution_count": 23,
   "metadata": {},
   "outputs": [
    {
     "name": "stdout",
     "output_type": "stream",
     "text": [
      "開始\n",
      "async外は影響を受けない\n",
      "終了\n"
     ]
    }
   ],
   "source": [
    "async function pauseAndResume(pausePeriod){\n",
    "    console.log(\"開始\")\n",
    "    await new Promise(resolve => setTimeout(resolve, pausePeriod))\n",
    "    console.log(\"終了\")\n",
    "}\n",
    "\n",
    "pauseAndResume(3000)\n",
    "console.log(\"async外は影響を受けない\")"
   ]
  },
  {
   "cell_type": "code",
   "execution_count": 29,
   "metadata": {},
   "outputs": [],
   "source": [
    "function asyncFunc1(text: string): Promise<string>{\n",
    "    return new Promise((resolve, reject) => {\n",
    "        setTimeout(() => {\n",
    "            resolve(text + \"1\")\n",
    "        }, 1500);\n",
    "    })\n",
    "}\n",
    "function asyncFunc2(text: string): Promise<string>{\n",
    "    return new Promise((resolve, reject) => {\n",
    "        setTimeout(() => {\n",
    "            try {\n",
    "                resolve(text + \"2\")\n",
    "            } catch (error) {\n",
    "                reject(error)\n",
    "            }\n",
    "        }, 1500);\n",
    "    })\n",
    "}\n",
    "function asyncFunc3(text: string, text2: string): Promise<string>{\n",
    "    return new Promise((resolve, reject) => {\n",
    "        setTimeout(() => {\n",
    "            try {\n",
    "                resolve(text + text2 + \"3\")\n",
    "            } catch (error) {\n",
    "                reject(error)\n",
    "            }\n",
    "        }, 1500);\n",
    "    })\n",
    "}"
   ]
  },
  {
   "cell_type": "code",
   "execution_count": 31,
   "metadata": {},
   "outputs": [],
   "source": [
    "const ret = asyncFunc1(\"aaa\")\n",
    "    .then(result1 => asyncFunc2(result1)\n",
    "        .then(result2 => asyncFunc3(result1, result2)))"
   ]
  },
  {
   "cell_type": "code",
   "execution_count": 33,
   "metadata": {},
   "outputs": [
    {
     "name": "stdout",
     "output_type": "stream",
     "text": [
      "Promise { 'aaa1aaa123' }\n"
     ]
    }
   ],
   "source": [
    "ret"
   ]
  },
  {
   "cell_type": "code",
   "execution_count": null,
   "metadata": {},
   "outputs": [],
   "source": [
    "async function doSomethingAsync(input){\n",
    "    const result1 = await asyncFunc1(input)\n",
    "    const result2 = await asyncFunc2(result1)\n",
    "    const result3 = await asyncFunc3(result1, result2)\n",
    "\n",
    "    console.log(result3)\n",
    "}"
   ]
  }
 ],
 "metadata": {
  "kernelspec": {
   "display_name": "TypeScript",
   "language": "typescript",
   "name": "tslab"
  },
  "language_info": {
   "codemirror_mode": {
    "mode": "typescript",
    "name": "javascript",
    "typescript": true
   },
   "file_extension": ".ts",
   "mimetype": "text/typescript",
   "name": "typescript",
   "version": "3.7.2"
  },
  "orig_nbformat": 4
 },
 "nbformat": 4,
 "nbformat_minor": 2
}

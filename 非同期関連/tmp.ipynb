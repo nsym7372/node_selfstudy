{
 "cells": [
  {
   "cell_type": "code",
   "execution_count": 1,
   "metadata": {},
   "outputs": [],
   "source": [
    "const a = {\"sample\": \"\"}"
   ]
  },
  {
   "cell_type": "code",
   "execution_count": 2,
   "metadata": {},
   "outputs": [
    {
     "name": "stdout",
     "output_type": "stream",
     "text": [
      "false\n"
     ]
    }
   ],
   "source": [
    "\"a\" in [\"a\", \"b\", \"c\"]"
   ]
  },
  {
   "cell_type": "code",
   "execution_count": 3,
   "metadata": {},
   "outputs": [
    {
     "name": "stdout",
     "output_type": "stream",
     "text": [
      "true\n"
     ]
    }
   ],
   "source": [
    "1 in [1, 2, 3]"
   ]
  },
  {
   "cell_type": "code",
   "execution_count": 4,
   "metadata": {},
   "outputs": [
    {
     "name": "stdout",
     "output_type": "stream",
     "text": [
      "true\n"
     ]
    }
   ],
   "source": [
    "[\"a\", \"b\", \"c\"].includes(\"a\")"
   ]
  },
  {
   "cell_type": "code",
   "execution_count": 1,
   "metadata": {},
   "outputs": [],
   "source": [
    "type ContentType = {\n",
    "    [ext: string]: [dir: string, contentsType: string];\n",
    "};\n",
    "const content: ContentType = {\n",
    "    \".html\": [\"views\", \"text/html\"],\n",
    "    \".js\": [\"public/js\", \"text/javascript\"],\n",
    "    \".css\": [\"public/css\", \"text/css\"],\n",
    "    \".png\": [\"public/image\", \"image/png\"],\n",
    "};"
   ]
  },
  {
   "cell_type": "code",
   "execution_count": 5,
   "metadata": {},
   "outputs": [
    {
     "name": "stdout",
     "output_type": "stream",
     "text": [
      "text/html\n"
     ]
    }
   ],
   "source": [
    "\n",
    "const [dir, ctype] = content[\".html\"]\n",
    "ctype"
   ]
  },
  {
   "cell_type": "code",
   "execution_count": 2,
   "metadata": {},
   "outputs": [
    {
     "name": "stdout",
     "output_type": "stream",
     "text": [
      "[ 'foofoo', 'barbar' ]\n"
     ]
    }
   ],
   "source": [
    "['foo', 'bar'].map(str => str + str)"
   ]
  },
  {
   "cell_type": "code",
   "execution_count": 8,
   "metadata": {},
   "outputs": [
    {
     "name": "stdout",
     "output_type": "stream",
     "text": [
      "100\n",
      "100\n"
     ]
    }
   ],
   "source": [
    "const z = 100\n",
    "\n",
    "if( true ){\n",
    "    const z = 200\n",
    "    console.log(z)\n",
    "}\n",
    "\n",
    "console.log(z)"
   ]
  },
  {
   "cell_type": "code",
   "execution_count": 2,
   "metadata": {},
   "outputs": [
    {
     "name": "stderr",
     "output_type": "stream",
     "text": [
      "8:17 - Cannot find name 'z'.\n"
     ]
    }
   ],
   "source": [
    "const f = () => {\n",
    "    // const z = 100\n",
    "    if( true ){\n",
    "        const z = 200\n",
    "        console.log(z)\n",
    "    }\n",
    "    \n",
    "    console.log(z)\n",
    "}\n",
    "\n",
    "f()"
   ]
  },
  {
   "cell_type": "code",
   "execution_count": 3,
   "metadata": {},
   "outputs": [
    {
     "name": "stdout",
     "output_type": "stream",
     "text": [
      "f1\n"
     ]
    }
   ],
   "source": [
    "f1()\n",
    "// f2()\n",
    "\n",
    "function f1() {\n",
    "    console.log(\"f1\")\n",
    "}\n",
    "\n",
    "const f2 = () => console.log(\"f2\")"
   ]
  },
  {
   "cell_type": "code",
   "execution_count": 7,
   "metadata": {},
   "outputs": [
    {
     "name": "stdout",
     "output_type": "stream",
     "text": [
      "{ propA: 1, propB: 2 }\n"
     ]
    }
   ],
   "source": [
    "const obj1 = {propA: 1, propB: 2}\n",
    "obj1"
   ]
  },
  {
   "cell_type": "code",
   "execution_count": 8,
   "metadata": {},
   "outputs": [
    {
     "name": "stdout",
     "output_type": "stream",
     "text": [
      "1\n"
     ]
    }
   ],
   "source": [
    "obj1.propA"
   ]
  },
  {
   "cell_type": "code",
   "execution_count": 11,
   "metadata": {},
   "outputs": [
    {
     "name": "stdout",
     "output_type": "stream",
     "text": [
      "{ propA: 1, propB: 2, propC: 3 }\n"
     ]
    }
   ],
   "source": [
    "const obj1_2 = {...obj1, propC: 3}\n",
    "obj1_2"
   ]
  },
  {
   "cell_type": "code",
   "execution_count": 12,
   "metadata": {},
   "outputs": [
    {
     "name": "stdout",
     "output_type": "stream",
     "text": [
      "{ propA: 1, propB: 2 }\n"
     ]
    }
   ],
   "source": [
    "delete obj1_2.propC\n",
    "obj1_2"
   ]
  },
  {
   "cell_type": "code",
   "execution_count": 13,
   "metadata": {},
   "outputs": [],
   "source": [
    "const sample = {\n",
    "    value: 100,\n",
    "    withTax: function(){\n",
    "        return Math.floor(this.value * 1.1)\n",
    "    }\n",
    "}"
   ]
  },
  {
   "cell_type": "code",
   "execution_count": null,
   "metadata": {},
   "outputs": [],
   "source": [
    "class sampleClass {\n",
    "    value: number;\n",
    "    withTax(){\n",
    "        return Math.floor(this.value * 1.1)\n",
    "    }\n",
    "}\n",
    "\n",
    "type c = sampleClass\n",
    "const d: sampleClass = new sampleClass();\n",
    "\n",
    "type obj = {\n",
    "    a: number,\n",
    "    b: number\n",
    "} \n",
    "\n",
    "\n",
    "\n"
   ]
  }
 ],
 "metadata": {
  "kernelspec": {
   "display_name": "TypeScript",
   "language": "typescript",
   "name": "tslab"
  },
  "language_info": {
   "codemirror_mode": {
    "mode": "typescript",
    "name": "javascript",
    "typescript": true
   },
   "file_extension": ".ts",
   "mimetype": "text/typescript",
   "name": "typescript",
   "version": "3.7.2"
  },
  "orig_nbformat": 4
 },
 "nbformat": 4,
 "nbformat_minor": 2
}

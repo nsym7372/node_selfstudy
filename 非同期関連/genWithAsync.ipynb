{
 "cells": [
  {
   "cell_type": "code",
   "execution_count": 2,
   "metadata": {},
   "outputs": [],
   "source": [
    "function parseJSONAsync(json){\n",
    "    return new Promise((resolve, reject) => {\n",
    "        setTimeout(() => {\n",
    "            try {\n",
    "                resolve(JSON.parse(json))\n",
    "            } catch (error) {\n",
    "                reject(error)\n",
    "            }\n",
    "        }, 1500);\n",
    "    })\n",
    "}"
   ]
  },
  {
   "cell_type": "code",
   "execution_count": 27,
   "metadata": {},
   "outputs": [],
   "source": [
    "function* asyncWithGeneratorFunc(json){\n",
    "    try {\n",
    "        const result = yield parseJSONAsync(json)\n",
    "        console.log(\"parse結果: \", result)\n",
    "    } catch (error) {\n",
    "        console.log(\"★\", error)\n",
    "    }\n",
    "}"
   ]
  },
  {
   "cell_type": "code",
   "execution_count": 26,
   "metadata": {},
   "outputs": [
    {
     "name": "stdout",
     "output_type": "stream",
     "text": [
      "Promise { <pending> }\n",
      "parse結果:  { foo: 1 }\n"
     ]
    }
   ],
   "source": [
    "const asyncWithGenerator1 = asyncWithGeneratorFunc('{\"foo\": 1}')\n",
    "const promise1 = asyncWithGenerator1.next().value as Promise<unknown>\n",
    "promise1.then(ret => {\n",
    "    asyncWithGenerator1.next(ret)\n",
    "})\n"
   ]
  },
  {
   "cell_type": "code",
   "execution_count": 28,
   "metadata": {},
   "outputs": [
    {
     "name": "stdout",
     "output_type": "stream",
     "text": [
      "Promise { <pending> }\n",
      "★ { foo: 1 }\n"
     ]
    }
   ],
   "source": [
    "const asyncWithGenerator2 = asyncWithGeneratorFunc('{\"foo\": 1}')\n",
    "const promise2 = asyncWithGenerator2.next().value as Promise<unknown>\n",
    "promise2.then(ret => {\n",
    "    asyncWithGenerator2.throw(ret)\n",
    "})"
   ]
  },
  {
   "cell_type": "code",
   "execution_count": null,
   "metadata": {},
   "outputs": [],
   "source": []
  }
 ],
 "metadata": {
  "kernelspec": {
   "display_name": "TypeScript",
   "language": "typescript",
   "name": "tslab"
  },
  "language_info": {
   "codemirror_mode": {
    "mode": "typescript",
    "name": "javascript",
    "typescript": true
   },
   "file_extension": ".ts",
   "mimetype": "text/typescript",
   "name": "typescript",
   "version": "3.7.2"
  },
  "orig_nbformat": 4
 },
 "nbformat": 4,
 "nbformat_minor": 2
}
